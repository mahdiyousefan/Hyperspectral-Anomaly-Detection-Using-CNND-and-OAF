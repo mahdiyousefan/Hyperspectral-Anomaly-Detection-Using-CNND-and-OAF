{
 "cells": [
  {
   "cell_type": "code",
   "execution_count": 7,
   "metadata": {},
   "outputs": [],
   "source": [
    "from __future__ import division\n",
    "%matplotlib inline\n",
    "# import, do some set up\n",
    "import scipy.io as sio\n",
    "import matplotlib.pyplot as plt\n",
    "import numpy as np\n",
    "import tensorflow as tf\n",
    "import os\n",
    "import keras as ks\n",
    "from scipy import linalg as LA\n",
    "from PIL import Image\n",
    "import matplotlib.pyplot as plt\n",
    "from itertools import product\n",
    "import time"
   ]
  },
  {
   "cell_type": "code",
   "execution_count": 8,
   "metadata": {},
   "outputs": [],
   "source": [
    "dim = 10"
   ]
  },
  {
   "cell_type": "code",
   "execution_count": 9,
   "metadata": {},
   "outputs": [],
   "source": [
    "class UFarray:\n",
    "    def __init__(self):\n",
    "        self.P = []\n",
    "        self.label = 0\n",
    "        \n",
    "    def makeLabel(self):\n",
    "        r = self.label\n",
    "        self.label += 1\n",
    "        self.P.append(r)\n",
    "        return r\n",
    "\n",
    "    def setRoot(self, i, root):\n",
    "        while self.P[i] < i:\n",
    "            j = self.P[i]\n",
    "            self.P[i] = root\n",
    "            i = j\n",
    "        self.P[i] = root\n",
    "\n",
    "    def findRoot(self, i):\n",
    "        while self.P[i] < i:\n",
    "            i = self.P[i]\n",
    "        return i\n",
    "    \n",
    "    def find(self, i):\n",
    "        root = self.findRoot(i)\n",
    "        self.setRoot(i, root)\n",
    "        return root\n",
    "    \n",
    "    def union(self, i, j):\n",
    "        if i != j:\n",
    "            root = self.findRoot(i)\n",
    "            rootj = self.findRoot(j)\n",
    "            if root > rootj: root = rootj\n",
    "            self.setRoot(j, root)\n",
    "            self.setRoot(i, root)\n",
    "    \n",
    "    def flatten(self):\n",
    "        for i in range(1, len(self.P)):\n",
    "            self.P[i] = self.P[self.P[i]]\n",
    "    \n",
    "    def flattenL(self):\n",
    "        k = 1\n",
    "        for i in range(1, len(self.P)):\n",
    "            if self.P[i] < i:\n",
    "                self.P[i] = self.P[self.P[i]]\n",
    "            else:\n",
    "                self.P[i] = k\n",
    "                k += 1\n",
    "\n",
    "def pca(data, dim = 4):\n",
    "    nPCs = dim\n",
    "    X = np.double(np.reshape(data , (data.shape[0]*data.shape[1] , data.shape[2])))\n",
    "    mu = np.mean(X,axis=0)\n",
    "    for i in range(data.shape[2]):\n",
    "        X[:,i] = X[:,i] - mu[i]\n",
    "    v = np.cov(X.T)\n",
    "    eig_vals, eig_vecs = np.linalg.eig(v)\n",
    "    img = np.zeros([data.shape[0], data.shape[1], dim], dtype=np.double)\n",
    "    for i in range(nPCs):\n",
    "        img[:,:,i] = np.reshape(np.matmul(X,eig_vecs[:,i]), (data.shape[0], data.shape[1]))\n",
    "    return img\n",
    "\n",
    "def reshape_to_input_format(input_):\n",
    "    tmp = np.zeros([1,dim,1])\n",
    "    for i in range(input_.shape[0]):\n",
    "        tmp[0][i][0] = input_[i]\n",
    "    return tmp\n",
    "\n",
    "def loadData(image):\n",
    "\n",
    "    if image is 1:\n",
    "        a = sio.loadmat('DataSet/San_Diego.mat')\n",
    "    elif image is 2:\n",
    "        a = sio.loadmat('DataSet/Airport.mat')\n",
    "    elif image is 3:\n",
    "        a = sio.loadmat('DataSet/Beach.mat')\n",
    "    elif image is 4:\n",
    "        a = sio.loadmat('DataSet/Urban.mat')\n",
    "    elif image is 5:\n",
    "        a = sio.loadmat('DataSet/HYDICE_urban.mat')\n",
    "    elif image is 6:\n",
    "        a = sio.loadmat('DataSet/Sand.mat')\n",
    "    data = a['data']\n",
    "    labels = a['map']\n",
    "    return data, labels\n",
    "\n",
    "def dual_window(data, row, col, window_in, window_out):\n",
    "    total = 0\n",
    "    h, w, deepth = data.shape\n",
    "    for i in range(-np.int32(window_out/2), np.int32(window_out/2) + 1):\n",
    "        for j in range(-np.int32(window_out/2), np.int32(window_out/2) + 1):\n",
    "            \n",
    "            if -np.int32(window_in/2) <= i <= np.int32(window_in/2) and -np.int32(window_in/2) <= j <= np.int32(window_in/2):\n",
    "                continue\n",
    "            r = row + i\n",
    "            c = col + j\n",
    "            \n",
    "            if r<0 or r>=h:\n",
    "                continue\n",
    "            if c<0 or c>=w:\n",
    "                continue\n",
    "            total += 1\n",
    "            \n",
    "    res = np.zeros((total,1,deepth,1))\n",
    "    index = 0\n",
    "    \n",
    "    for i in range(-np.int32(window_out/2), np.int32(window_out/2) + 1):\n",
    "        for j in range(-np.int32(window_out/2), np.int32(window_out/2) + 1):\n",
    "            \n",
    "            if -np.int32(window_in/2) <= i <= np.int32(window_in/2) and -np.int32(window_in/2) <= j <= np.int32(window_in/2):\n",
    "                continue\n",
    "            \n",
    "            r = row + i\n",
    "            c = col + j\n",
    "            \n",
    "            if r<0 or r>=h:\n",
    "                continue\n",
    "            if c<0 or c>=w:\n",
    "                continue\n",
    "                \n",
    "            res[index,0,:,0] = np.abs(data[row, col, :] - data[r, c, :])\n",
    "            index += 1\n",
    "    return res\n",
    "\n",
    "def toBinary(data,th):\n",
    "    r,c = data.shape\n",
    "    res = np.zeros((r,c))\n",
    "    for i in range(r):\n",
    "        for j in range(c):\n",
    "            if data[i][j] > th:\n",
    "                res[i][j] = 1\n",
    "    return res"
   ]
  },
  {
   "cell_type": "code",
   "execution_count": 10,
   "metadata": {},
   "outputs": [],
   "source": [
    "# read image and apply pca\n",
    "img,label = loadData(2)\n",
    "img = pca(img,dim)\n",
    "#-- normalize data --\n",
    "img -= np.amin(img)\n",
    "img = img / np.amax(img)\n",
    "img *= 255\n",
    "img = np.int16(img)\n",
    "#--------------------"
   ]
  },
  {
   "cell_type": "code",
   "execution_count": 11,
   "metadata": {},
   "outputs": [],
   "source": [
    "model = ks.models.load_model(\"mModel.h5\")"
   ]
  },
  {
   "cell_type": "code",
   "execution_count": 12,
   "metadata": {
    "scrolled": true
   },
   "outputs": [
    {
     "name": "stdout",
     "output_type": "stream",
     "text": [
      "computational time : 31.216068744659424\n"
     ]
    },
    {
     "data": {
      "text/plain": [
       "<matplotlib.image.AxesImage at 0x1e3b5e069b0>"
      ]
     },
     "execution_count": 12,
     "metadata": {},
     "output_type": "execute_result"
    },
    {
     "data": {
      "image/png": "[encoded data removed]",
      "text/plain": [
       "<Figure size 432x288 with 1 Axes>"
      ]
     },
     "metadata": {
      "needs_background": "light"
     },
     "output_type": "display_data"
    }
   ],
   "source": [
    "data = np.zeros((img.shape[0],img.shape[1]))\n",
    "ts = time.time()\n",
    "for i in range(img.shape[0]):\n",
    "    for j in range(img.shape[1]):\n",
    "        d = 1 - np.mean(model.predict(dual_window(img,i,j,3,7)))\n",
    "        data[i,j] = d\n",
    "testtime = time.time()-ts\n",
    "print(\"computational time : \" + str(testtime))        \n",
    "plt.imshow(data,cmap='gray')"
   ]
  },
  {
   "cell_type": "code",
   "execution_count": 13,
   "metadata": {},
   "outputs": [],
   "source": [
    "sio.savemat('networkoutput', mdict={'res': data})"
   ]
  },
  {
   "cell_type": "code",
   "execution_count": 14,
   "metadata": {},
   "outputs": [],
   "source": [
    "mdata = toBinary(data,0.65)"
   ]
  },
  {
   "cell_type": "code",
   "execution_count": 16,
   "metadata": {},
   "outputs": [
    {
     "data": {
      "text/plain": [
       "<matplotlib.image.AxesImage at 0x1e3b5eee978>"
      ]
     },
     "execution_count": 16,
     "metadata": {},
     "output_type": "execute_result"
    },
    {
     "data": {
      "image/png": "[encoded data removed]",
      "text/plain": [
       "<Figure size 432x288 with 1 Axes>"
      ]
     },
     "metadata": {
      "needs_background": "light"
     },
     "output_type": "display_data"
    }
   ],
   "source": [
    "sio.savemat('binaryoutput', mdict={'res': mdata})\n",
    "plt.imshow(mdata,cmap='gray')"
   ]
  },
  {
   "cell_type": "code",
   "execution_count": 17,
   "metadata": {},
   "outputs": [
    {
     "data": {
      "text/plain": [
       "<matplotlib.image.AxesImage at 0x1e3b5f500b8>"
      ]
     },
     "execution_count": 17,
     "metadata": {},
     "output_type": "execute_result"
    },
    {
     "data": {
      "image/png": "[encoded data removed]",
      "text/plain": [
       "<Figure size 432x288 with 1 Axes>"
      ]
     },
     "metadata": {
      "needs_background": "light"
     },
     "output_type": "display_data"
    }
   ],
   "source": [
    "width,height = mdata.shape\n",
    "o = np.ones([width,height])\n",
    "mdata = o - mdata\n",
    "plt.imshow(mdata,cmap='gray')"
   ]
  },
  {
   "cell_type": "code",
   "execution_count": 20,
   "metadata": {
    "scrolled": true
   },
   "outputs": [
    {
     "name": "stdout",
     "output_type": "stream",
     "text": [
      "total computational time : 31.242053270339966\n"
     ]
    },
    {
     "data": {
      "text/plain": [
       "<matplotlib.image.AxesImage at 0x1e3b608d0b8>"
      ]
     },
     "execution_count": 20,
     "metadata": {},
     "output_type": "execute_result"
    },
    {
     "data": {
      "image/png": "[encoded data removed]",
      "text/plain": [
       "<Figure size 432x288 with 1 Axes>"
      ]
     },
     "metadata": {
      "needs_background": "light"
     },
     "output_type": "display_data"
    }
   ],
   "source": [
    "uf = UFarray()\n",
    "labels = {}\n",
    "ts = time.time()\n",
    "for y, x in product(range(height), range(width)):\n",
    "\n",
    "    if mdata[x, y] == 1:\n",
    "        pass\n",
    "\n",
    "    elif y > 0 and mdata[x, y-1] == 0:\n",
    "        labels[x, y] = labels[(x, y-1)]\n",
    "\n",
    "    elif x+1 < width and y > 0 and mdata[x+1, y-1] == 0:\n",
    "\n",
    "        c = labels[(x+1, y-1)]\n",
    "        labels[x, y] = c\n",
    "\n",
    "        if x > 0 and mdata[x-1, y-1] == 0:\n",
    "            a = labels[(x-1, y-1)]\n",
    "            uf.union(c, a)\n",
    "\n",
    "        elif x > 0 and mdata[x-1, y] == 0:\n",
    "            d = labels[(x-1, y)]\n",
    "            uf.union(c, d)\n",
    "\n",
    "    elif x > 0 and y > 0 and mdata[x-1, y-1] == 0:\n",
    "        labels[x, y] = labels[(x-1, y-1)]\n",
    "\n",
    "    elif x > 0 and mdata[x-1, y] == 0:\n",
    "        labels[x, y] = labels[(x-1, y)]\n",
    "\n",
    "    else: \n",
    "        labels[x, y] = uf.makeLabel()\n",
    "\n",
    "# uf.flatten()\n",
    "out = np.zeros([width, height])\n",
    "cs = {}\n",
    "\n",
    "for m in range(uf.label):\n",
    "    cs[m] = 0\n",
    "\n",
    "for (x, y) in labels:\n",
    "    cs[labels[(x,y)]] += 1\n",
    "\n",
    "for (x, y) in labels:\n",
    "    if 9< cs[labels[(x, y)]] < 18 or 50 < cs[labels[(x, y)]] < 70:\n",
    "#       if 22< cs[labels[(x, y)]]:\n",
    "#      if 17< cs[labels[(x, y)]] < 40 or 55< cs[labels[(x, y)]] < 58 or 95< cs[labels[(x, y)]] < 105:\n",
    "#         component = uf.find(labels[(x, y)])\n",
    "#         labels[(x, y)] = component\n",
    "        out[x, y] = 1\n",
    "print(\"total computational time : \"+str(time.time()-ts+testtime))\n",
    "plt.imshow(out,cmap='gray')"
   ]
  },
  {
   "cell_type": "code",
   "execution_count": 21,
   "metadata": {},
   "outputs": [],
   "source": [
    "sio.savemat('OAFoutput', mdict={'res': out})"
   ]
  },
  {
   "cell_type": "code",
   "execution_count": 22,
   "metadata": {},
   "outputs": [],
   "source": [
    "sio.savemat('finalresult', mdict={'res': out*data})"
   ]
  },
  {
   "cell_type": "code",
   "execution_count": null,
   "metadata": {},
   "outputs": [],
   "source": []
  }
 ],
 "metadata": {
  "kernelspec": {
   "display_name": "Python 3",
   "language": "python",
   "name": "python3"
  },
  "language_info": {
   "codemirror_mode": {
    "name": "ipython",
    "version": 3
   },
   "file_extension": ".py",
   "mimetype": "text/x-python",
   "name": "python",
   "nbconvert_exporter": "python",
   "pygments_lexer": "ipython3",
   "version": "3.6.8"
  }
 },
 "nbformat": 4,
 "nbformat_minor": 1
}
